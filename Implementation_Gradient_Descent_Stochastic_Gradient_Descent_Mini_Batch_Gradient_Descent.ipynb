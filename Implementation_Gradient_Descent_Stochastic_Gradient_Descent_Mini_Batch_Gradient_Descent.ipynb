{
  "nbformat": 4,
  "nbformat_minor": 0,
  "metadata": {
    "colab": {
      "provenance": []
    },
    "kernelspec": {
      "name": "python3",
      "display_name": "Python 3"
    },
    "language_info": {
      "name": "python"
    }
  },
  "cells": [
    {
      "cell_type": "markdown",
      "source": [
        "### In this Notebook, we will implement Gradient Descent, Stochastic Gradient Descent and Mini Batch Gradient Descent to solve a linear regression problem."
      ],
      "metadata": {
        "id": "SzIqIrZjqZ9f"
      }
    },
    {
      "cell_type": "markdown",
      "source": [
        "**Import Librairies**"
      ],
      "metadata": {
        "id": "PF_o9nYt8uNi"
      }
    },
    {
      "cell_type": "code",
      "execution_count": 1,
      "metadata": {
        "id": "4-oIc4OP8TGl"
      },
      "outputs": [],
      "source": [
        "import numpy as np\n",
        "import pandas as pd\n",
        "import random\n",
        "import matplotlib.pyplot as plt\n",
        "\n"
      ]
    },
    {
      "cell_type": "markdown",
      "source": [
        "**Data creation**"
      ],
      "metadata": {
        "id": "lNyIHuo69T5r"
      }
    },
    {
      "cell_type": "code",
      "source": [
        "x_train = np.linspace(0,1,10).reshape(-1,1)\n",
        "y_train = x_train + np.random.normal(0,0.1,(10,1))"
      ],
      "metadata": {
        "id": "lFHGKlai8kRf"
      },
      "execution_count": 4,
      "outputs": []
    },
    {
      "cell_type": "code",
      "source": [
        "plt.scatter(x_train, y_train, marker = '+')"
      ],
      "metadata": {
        "colab": {
          "base_uri": "https://localhost:8080/",
          "height": 282
        },
        "id": "mt-GLkUQ-Aqt",
        "outputId": "ab4b1380-e7c6-4d3a-bc14-8555b41c3858"
      },
      "execution_count": 5,
      "outputs": [
        {
          "output_type": "execute_result",
          "data": {
            "text/plain": [
              "<matplotlib.collections.PathCollection at 0x7fbbbe54aee0>"
            ]
          },
          "metadata": {},
          "execution_count": 5
        },
        {
          "output_type": "display_data",
          "data": {
            "text/plain": [
              "<Figure size 432x288 with 1 Axes>"
            ],
            "image/png": "[encoded data removed]"
          },
          "metadata": {
            "needs_background": "light"
          }
        }
      ]
    },
    {
      "cell_type": "code",
      "source": [
        "x_train.shape"
      ],
      "metadata": {
        "colab": {
          "base_uri": "https://localhost:8080/"
        },
        "id": "I2IAoohjVCm_",
        "outputId": "b9d0e782-b425-474e-a279-ba0cd3d96661"
      },
      "execution_count": 4,
      "outputs": [
        {
          "output_type": "execute_result",
          "data": {
            "text/plain": [
              "(10, 1)"
            ]
          },
          "metadata": {},
          "execution_count": 4
        }
      ]
    },
    {
      "cell_type": "code",
      "source": [
        "y_train.shape"
      ],
      "metadata": {
        "colab": {
          "base_uri": "https://localhost:8080/"
        },
        "id": "mZrB5qgLVFQJ",
        "outputId": "3a94e305-6354-4065-ea7f-71454d4cb07a"
      },
      "execution_count": 5,
      "outputs": [
        {
          "output_type": "execute_result",
          "data": {
            "text/plain": [
              "(10, 1)"
            ]
          },
          "metadata": {},
          "execution_count": 5
        }
      ]
    },
    {
      "cell_type": "markdown",
      "source": [
        "**Hypothesis**"
      ],
      "metadata": {
        "id": "HLNZ0TTp-1Bo"
      }
    },
    {
      "cell_type": "markdown",
      "source": [
        "Linear function - parameters\n",
        "\n",
        "$$y = Xθ$$"
      ],
      "metadata": {
        "id": "fz7wpJFR-_uk"
      }
    },
    {
      "cell_type": "code",
      "source": [
        "def linear(X, theta):\n",
        "  '''\n",
        "  Inputs: X, theta\n",
        "  return: y\n",
        "  '''\n",
        "  #X = X.reshape(-1, 1)\n",
        "  y = X@theta\n",
        "  return y"
      ],
      "metadata": {
        "id": "DHJi_QIT-KCb"
      },
      "execution_count": 6,
      "outputs": []
    },
    {
      "cell_type": "markdown",
      "source": [
        "**Loss function**\n",
        "\n",
        "Mean Square Error(MSE) \n",
        "$$MSE = \\dfrac{1}{m}\\sum_{i = 1}^{m}(y_i - y^{pred}_i)^2$$"
      ],
      "metadata": {
        "id": "cpctihD9BuO4"
      }
    },
    {
      "cell_type": "code",
      "source": [
        "def loss(y, y_pred):\n",
        "  '''\n",
        "  Inputs : y, y_pred\n",
        "\n",
        "  return: MSE\n",
        "  '''\n",
        "  MSE = np.mean((y - y_pred)**2)\n",
        "\n",
        "  return MSE"
      ],
      "metadata": {
        "id": "6OrILPH8_Y4B"
      },
      "execution_count": 7,
      "outputs": []
    },
    {
      "cell_type": "markdown",
      "source": [
        "**Learning Algorithm**\n",
        "\n",
        "We saw:\n",
        "\n",
        "  1. Gradient Descent\n",
        "\n",
        "  2. Stochastic Gradient Descent\n",
        "\n",
        "  3. Mini Batch Gradient Descent\n",
        "\n"
      ],
      "metadata": {
        "id": "MHjJ9z6UFZ29"
      }
    },
    {
      "cell_type": "markdown",
      "source": [
        "$$Gradient = \\nabla_{\\theta}Loss(\\theta_k)=-2X^{T}(y-X\\theta)$$"
      ],
      "metadata": {
        "id": "B-jNWCCSIBMM"
      }
    },
    {
      "cell_type": "code",
      "source": [
        "def gradient(X, theta, y):\n",
        "  '''\n",
        "  Inputs: X, theta, y\n",
        "\n",
        "  Return: grad\n",
        "  \n",
        "  '''\n",
        "  grad = -2*(X.T@(y - X@theta))\n",
        "\n",
        "  return grad"
      ],
      "metadata": {
        "id": "MnhIqSlFDCgz"
      },
      "execution_count": 8,
      "outputs": []
    },
    {
      "cell_type": "markdown",
      "source": [
        "**Update the parameters**\n",
        "\n",
        "$$\\theta_{k + 1} = \\theta_k - \\alpha\\nabla_{\\theta}Loss(\\theta_k)$$"
      ],
      "metadata": {
        "id": "6M1LrbUgNNvl"
      }
    },
    {
      "cell_type": "code",
      "source": [
        "def update_parameters(theta, learning_rate, grads):\n",
        "  '''\n",
        "  Inputs: theta, learning_rate, grads\n",
        "\n",
        "  Return: new theta\n",
        "  \n",
        "  '''\n",
        "\n",
        "  return theta - learning_rate*grads"
      ],
      "metadata": {
        "id": "wYSjmtSFJz3U"
      },
      "execution_count": 9,
      "outputs": []
    },
    {
      "cell_type": "markdown",
      "source": [
        "#### Gradient Descent"
      ],
      "metadata": {
        "id": "7soLEiXSre63"
      }
    },
    {
      "cell_type": "markdown",
      "source": [
        "**Implementation of Gradient Descent**"
      ],
      "metadata": {
        "id": "o5e983n3RZYT"
      }
    },
    {
      "cell_type": "code",
      "source": [
        "class LinearRegression_GD:\n",
        "    def __init__(self, learning_rate=0.01, epochs=40):\n",
        "        self.learning_rate = learning_rate\n",
        "        self.epochs = epochs\n",
        "        self.theta = None\n",
        "        self.loss_ = []\n",
        "\n",
        "    def fit(self, X, y):\n",
        "        number_samples, number_features = X.shape\n",
        "\n",
        "        self.theta = np.zeros(number_features)\n",
        "\n",
        "        for epoch in range(self.epochs):\n",
        "          \n",
        "          y_pred =  linear(X, self.theta) \n",
        "\n",
        "          self.Loss = loss(y, y_pred)\n",
        "\n",
        "          grads =  gradient(X, self.theta, y)\n",
        "          \n",
        "          self.theta = update_parameters(self.theta, self.learning_rate, grads)\n",
        "          self.loss_.append(self.Loss)   \n",
        "                \n",
        "\n",
        "    def predict(self, X):\n",
        "        return np.dot(X, self.theta) \n"
      ],
      "metadata": {
        "id": "ZCi6GvsM8rIG"
      },
      "execution_count": 10,
      "outputs": []
    },
    {
      "cell_type": "markdown",
      "source": [
        "Training and test"
      ],
      "metadata": {
        "id": "6o2Pbh8Lrm6T"
      }
    },
    {
      "cell_type": "code",
      "source": [
        "X_train = x_train\n",
        "y_train = y_train\n",
        "\n",
        "regressor_GD = LinearRegression_GD(learning_rate=0.01, epochs=40)\n",
        "regressor_GD.fit(X_train, y_train)\n",
        "\n",
        "y_pred_GD = regressor_GD.predict(X_train)\n",
        "print(y_pred_GD)\n"
      ],
      "metadata": {
        "colab": {
          "base_uri": "https://localhost:8080/"
        },
        "outputId": "cfde21d2-24ef-46ee-862d-e2c89772a937",
        "id": "1JP0BajV9cFp"
      },
      "execution_count": 11,
      "outputs": [
        {
          "output_type": "stream",
          "name": "stdout",
          "text": [
            "[[0.         0.         0.         0.         0.         0.\n",
            "  0.         0.         0.         0.        ]\n",
            " [0.10100373 0.10100373 0.10100373 0.10100373 0.10100373 0.10100373\n",
            "  0.10100373 0.10100373 0.10100373 0.10100373]\n",
            " [0.20200746 0.20200746 0.20200746 0.20200746 0.20200746 0.20200746\n",
            "  0.20200746 0.20200746 0.20200746 0.20200746]\n",
            " [0.30301119 0.30301119 0.30301119 0.30301119 0.30301119 0.30301119\n",
            "  0.30301119 0.30301119 0.30301119 0.30301119]\n",
            " [0.40401493 0.40401493 0.40401493 0.40401493 0.40401493 0.40401493\n",
            "  0.40401493 0.40401493 0.40401493 0.40401493]\n",
            " [0.50501866 0.50501866 0.50501866 0.50501866 0.50501866 0.50501866\n",
            "  0.50501866 0.50501866 0.50501866 0.50501866]\n",
            " [0.60602239 0.60602239 0.60602239 0.60602239 0.60602239 0.60602239\n",
            "  0.60602239 0.60602239 0.60602239 0.60602239]\n",
            " [0.70702612 0.70702612 0.70702612 0.70702612 0.70702612 0.70702612\n",
            "  0.70702612 0.70702612 0.70702612 0.70702612]\n",
            " [0.80802985 0.80802985 0.80802985 0.80802985 0.80802985 0.80802985\n",
            "  0.80802985 0.80802985 0.80802985 0.80802985]\n",
            " [0.90903358 0.90903358 0.90903358 0.90903358 0.90903358 0.90903358\n",
            "  0.90903358 0.90903358 0.90903358 0.90903358]]\n"
          ]
        }
      ]
    },
    {
      "cell_type": "markdown",
      "source": [
        "Curve of the Loss function"
      ],
      "metadata": {
        "id": "gVj9PoLZuFTM"
      }
    },
    {
      "cell_type": "code",
      "source": [
        "regressor_GD.loss_"
      ],
      "metadata": {
        "colab": {
          "base_uri": "https://localhost:8080/"
        },
        "id": "8X74gc5x_qN1",
        "outputId": "869e1834-5fd2-435f-eb82-66b718501519"
      },
      "execution_count": 12,
      "outputs": [
        {
          "output_type": "execute_result",
          "data": {
            "text/plain": [
              "[0.32961398194654107,\n",
              " 0.28549741205148593,\n",
              " 0.24737137611241358,\n",
              " 0.2144224270013368,\n",
              " 0.18594757456036362,\n",
              " 0.16133928678760973,\n",
              " 0.14007252769335374,\n",
              " 0.12169355526952344,\n",
              " 0.10581024056892367,\n",
              " 0.09208370134460964,\n",
              " 0.08022107174692777,\n",
              " 0.06996925381436872,\n",
              " 0.06110951744167805,\n",
              " 0.05345283361155616,\n",
              " 0.04683584132100048,\n",
              " 0.04111736215368501,\n",
              " 0.03617538813420566,\n",
              " 0.0319044785978378,\n",
              " 0.02821351053609964,\n",
              " 0.025023734420083668,\n",
              " 0.022267094021110788,\n",
              " 0.019884774380840676,\n",
              " 0.017825946950708205,\n",
              " 0.016046685127309356,\n",
              " 0.014509027045883425,\n",
              " 0.0131801656358983,\n",
              " 0.012031748657976862,\n",
              " 0.011039273787935327,\n",
              " 0.010181565841604914,\n",
              " 0.009440324986642469,\n",
              " 0.008799736302095287,\n",
              " 0.008246132355385323,\n",
              " 0.00776770159754343,\n",
              " 0.007354236355090785,\n",
              " 0.0069969150417881956,\n",
              " 0.00668811394358001,\n",
              " 0.006421244561025636,\n",
              " 0.006190613038799194,\n",
              " 0.00599129868308193,\n",
              " 0.005819048974926328]"
            ]
          },
          "metadata": {},
          "execution_count": 12
        }
      ]
    },
    {
      "cell_type": "code",
      "source": [
        "plt.plot(regressor_GD.loss_)\n",
        "plt.title('Plot of the Loss function with GD')\n",
        "plt.xlabel('Epochs')\n",
        "plt.ylabel('Loss')"
      ],
      "metadata": {
        "colab": {
          "base_uri": "https://localhost:8080/",
          "height": 312
        },
        "id": "oOTI0OIvt9C1",
        "outputId": "d810de5d-b559-4aef-e9dd-472b14231808"
      },
      "execution_count": 13,
      "outputs": [
        {
          "output_type": "execute_result",
          "data": {
            "text/plain": [
              "Text(0, 0.5, 'Loss')"
            ]
          },
          "metadata": {},
          "execution_count": 13
        },
        {
          "output_type": "display_data",
          "data": {
            "text/plain": [
              "<Figure size 432x288 with 1 Axes>"
            ],
            "image/png": "[encoded data removed]"
          },
          "metadata": {
            "needs_background": "light"
          }
        }
      ]
    },
    {
      "cell_type": "code",
      "source": [
        "plt.scatter(x_train, y_train)\n",
        "plt.plot(x_train, y_pred_GD)\n",
        "plt.show()"
      ],
      "metadata": {
        "colab": {
          "base_uri": "https://localhost:8080/",
          "height": 265
        },
        "outputId": "57aff350-84ac-499e-e7ab-8224f816ec75",
        "id": "oXNRt14F9cFs"
      },
      "execution_count": 14,
      "outputs": [
        {
          "output_type": "display_data",
          "data": {
            "text/plain": [
              "<Figure size 432x288 with 1 Axes>"
            ],
            "image/png": "[encoded data removed]"
          },
          "metadata": {
            "needs_background": "light"
          }
        }
      ]
    },
    {
      "cell_type": "code",
      "source": [],
      "metadata": {
        "id": "AZ3Hhmui77eN"
      },
      "execution_count": null,
      "outputs": []
    },
    {
      "cell_type": "code",
      "source": [],
      "metadata": {
        "id": "VWc8hxEf77bm"
      },
      "execution_count": null,
      "outputs": []
    },
    {
      "cell_type": "code",
      "source": [],
      "metadata": {
        "id": "dN8p_PFd77Yu"
      },
      "execution_count": null,
      "outputs": []
    },
    {
      "cell_type": "markdown",
      "source": [
        "#### Implementation of the Stochastic Gradient Descent"
      ],
      "metadata": {
        "id": "Cie7fwzKBlka"
      }
    },
    {
      "cell_type": "code",
      "source": [
        "def loss_SGD(y, y_pred):\n",
        "  '''\n",
        "  Inputs : y, y_pred\n",
        "\n",
        "  return: MSE\n",
        "  '''\n",
        "  MSE = ((y - y_pred)**2)\n",
        "\n",
        "  return MSE"
      ],
      "metadata": {
        "id": "CWm8Geadv7hL"
      },
      "execution_count": 15,
      "outputs": []
    },
    {
      "cell_type": "code",
      "source": [
        "class LinearRegression_SGD2:\n",
        "    def __init__(self, learning_rate=0.01, epochs=30):\n",
        "        self.learning_rate = learning_rate\n",
        "        self.epochs = epochs\n",
        "        self.theta = None\n",
        "        self.loss = []\n",
        "\n",
        "    def fit(self, X, y):\n",
        "        number_samples, number_features = X.shape\n",
        "\n",
        "        self.theta = np.zeros(number_features)\n",
        "\n",
        "        for epoch in range(self.epochs):\n",
        "      \n",
        "            indexes = np.arange(number_samples)\n",
        "            np.random.shuffle(indexes)\n",
        "            self.Loss_int = []\n",
        "\n",
        "            for i in indexes:\n",
        "                \n",
        "                y_pred =  linear(X[i], self.theta) \n",
        "\n",
        "                self.Loss = loss_SGD(y, y_pred)\n",
        "\n",
        "                grads =  -2*X[i] @ (y[i] - y_pred)\n",
        "               \n",
        "                self.theta = update_parameters(self.theta, self.learning_rate, grads)  \n",
        "                self.Loss_int.append(self.Loss)\n",
        "\n",
        "\n",
        "            self.loss.append(np.mean(self.Loss_int))\n",
        "                \n",
        "\n",
        "    def predict(self, X):\n",
        "        return np.dot(X, self.theta) \n"
      ],
      "metadata": {
        "id": "29btc_BR2_A-"
      },
      "execution_count": 28,
      "outputs": []
    },
    {
      "cell_type": "code",
      "source": [
        "X_test = np.linspace(0,1,6).reshape(-1,1)"
      ],
      "metadata": {
        "id": "KcEnco2Y5pfZ"
      },
      "execution_count": 20,
      "outputs": []
    },
    {
      "cell_type": "code",
      "source": [
        "X_train = x_train\n",
        "y_train = y_train\n",
        "\n",
        "regressor_SGD = LinearRegression_SGD2(learning_rate=0.01, epochs=30)\n",
        "regressor_SGD.fit(X_train, y_train)\n",
        "\n",
        "y_pred_SGD = regressor_SGD.predict(X_train)\n",
        "print(y_pred_SGD)\n"
      ],
      "metadata": {
        "colab": {
          "base_uri": "https://localhost:8080/"
        },
        "id": "P8mzJgSrypP1",
        "outputId": "5221221d-728b-4baa-90ce-e1367b71e0ec"
      },
      "execution_count": 32,
      "outputs": [
        {
          "output_type": "stream",
          "name": "stdout",
          "text": [
            "[0.         0.0940134  0.18802679 0.28204019 0.37605358 0.47006698\n",
            " 0.56408037 0.65809377 0.75210716 0.84612056]\n"
          ]
        }
      ]
    },
    {
      "cell_type": "markdown",
      "source": [
        "Curve of the Loss function"
      ],
      "metadata": {
        "id": "B9gHVb1zBQVW"
      }
    },
    {
      "cell_type": "code",
      "source": [
        "regressor_SGD.loss"
      ],
      "metadata": {
        "colab": {
          "base_uri": "https://localhost:8080/"
        },
        "id": "i9nJsQhv5CpF",
        "outputId": "7b619dd9-b30b-4042-c04a-26b3f4fa01cc"
      },
      "execution_count": 33,
      "outputs": [
        {
          "output_type": "execute_result",
          "data": {
            "text/plain": [
              "[0.317506892350294,\n",
              " 0.29005524185382203,\n",
              " 0.2670578939917439,\n",
              " 0.246632421846314,\n",
              " 0.22946150644821398,\n",
              " 0.21848217154352093,\n",
              " 0.2067381193015794,\n",
              " 0.19872724810381062,\n",
              " 0.19107085436756055,\n",
              " 0.18620275782588153,\n",
              " 0.18178209899251394,\n",
              " 0.17845501650486997,\n",
              " 0.17587695847840107,\n",
              " 0.17404975980213866,\n",
              " 0.17225849909335605,\n",
              " 0.17223942951056442,\n",
              " 0.1717477657515674,\n",
              " 0.1719213159115305,\n",
              " 0.17245898145066418,\n",
              " 0.17303885257227358,\n",
              " 0.17303394899454416,\n",
              " 0.17384200517346982,\n",
              " 0.1745727037364276,\n",
              " 0.1762761569761758,\n",
              " 0.17714381852160577,\n",
              " 0.1782654369074661,\n",
              " 0.1790210635007472,\n",
              " 0.18011415145685203,\n",
              " 0.18088399939712407,\n",
              " 0.182426497989362]"
            ]
          },
          "metadata": {},
          "execution_count": 33
        }
      ]
    },
    {
      "cell_type": "code",
      "source": [
        "plt.plot(regressor_SGD.loss)\n",
        "plt.title('Plot of the Loss function with SGD')\n",
        "plt.xlabel('Epochs')\n",
        "plt.ylabel('Loss')"
      ],
      "metadata": {
        "colab": {
          "base_uri": "https://localhost:8080/",
          "height": 312
        },
        "id": "SdNAypyS5Cln",
        "outputId": "a08a6d42-d611-46bd-b732-93763ba47315"
      },
      "execution_count": 34,
      "outputs": [
        {
          "output_type": "execute_result",
          "data": {
            "text/plain": [
              "Text(0, 0.5, 'Loss')"
            ]
          },
          "metadata": {},
          "execution_count": 34
        },
        {
          "output_type": "display_data",
          "data": {
            "text/plain": [
              "<Figure size 432x288 with 1 Axes>"
            ],
            "image/png": "[encoded data removed]"
          },
          "metadata": {
            "needs_background": "light"
          }
        }
      ]
    },
    {
      "cell_type": "code",
      "source": [
        "plt.scatter(x_train, y_train)\n",
        "plt.plot(x_train, y_pred_SGD)\n",
        "plt.show()"
      ],
      "metadata": {
        "colab": {
          "base_uri": "https://localhost:8080/",
          "height": 265
        },
        "id": "9HI9auoC0jMO",
        "outputId": "6d4bb830-bd97-4fe8-a188-0c71f4f31f94"
      },
      "execution_count": 22,
      "outputs": [
        {
          "output_type": "display_data",
          "data": {
            "text/plain": [
              "<Figure size 432x288 with 1 Axes>"
            ],
            "image/png": "[encoded data removed]"
          },
          "metadata": {
            "needs_background": "light"
          }
        }
      ]
    },
    {
      "cell_type": "code",
      "source": [],
      "metadata": {
        "id": "vWupYASdC_CC"
      },
      "execution_count": null,
      "outputs": []
    },
    {
      "cell_type": "markdown",
      "source": [
        "#### Implementation of SGD with momentum"
      ],
      "metadata": {
        "id": "wAgwp-xSteUr"
      }
    },
    {
      "cell_type": "code",
      "source": [
        "def momentum(V, beta, grads):\n",
        "  return beta*V + (1-beta)*grads"
      ],
      "metadata": {
        "id": "6ZohMbcrtdz6"
      },
      "execution_count": 45,
      "outputs": []
    },
    {
      "cell_type": "code",
      "source": [
        "class LinearRegression_SGD_Momentum:\n",
        "    def __init__(self, learning_rate=0.01, epochs=30, beta = 0.99):\n",
        "        self.learning_rate = learning_rate\n",
        "        self.epochs = epochs\n",
        "        self.theta = None\n",
        "        self.loss = []\n",
        "        self.beta = beta\n",
        "\n",
        "    def fit(self, X, y):\n",
        "        number_samples, number_features = X.shape\n",
        "\n",
        "        self.theta = np.zeros(number_features)\n",
        "        self.V = np.zeros(number_features)\n",
        "\n",
        "        for epoch in range(self.epochs):\n",
        "      \n",
        "            indexes = np.arange(number_samples)\n",
        "            np.random.shuffle(indexes)\n",
        "            self.Loss_int = []\n",
        "\n",
        "            for i in indexes:\n",
        "                \n",
        "                y_pred =  linear(X[i], self.theta) \n",
        "\n",
        "                self.Loss = loss_SGD(y, y_pred)\n",
        "\n",
        "                grads =  -2*X[i] @ (y[i] - y_pred)\n",
        "                \n",
        "                self.V = momentum(self.V, self.beta, grads)\n",
        "               \n",
        "                self.theta = update_parameters(self.theta, self.learning_rate, self.V)  \n",
        "                self.Loss_int.append(self.Loss)\n",
        "\n",
        "\n",
        "            self.loss.append(np.mean(self.Loss_int))\n",
        "                \n",
        "\n",
        "    def predict(self, X):\n",
        "        return np.dot(X, self.theta) \n"
      ],
      "metadata": {
        "id": "N4FvMO9htduY"
      },
      "execution_count": 46,
      "outputs": []
    },
    {
      "cell_type": "code",
      "source": [
        "X_train = x_train\n",
        "y_train = y_train\n",
        "\n",
        "regressor_SGD_momentum = LinearRegression_SGD_Momentum(learning_rate=0.01, epochs=30, beta = 0.99)\n",
        "regressor_SGD_momentum.fit(X_train, y_train)\n",
        "\n",
        "y_pred_SGD_momentum = regressor_SGD_momentum.predict(X_train)\n",
        "print(y_pred_SGD_momentum)\n"
      ],
      "metadata": {
        "colab": {
          "base_uri": "https://localhost:8080/"
        },
        "id": "hgZ1z4K7tdrS",
        "outputId": "f84ae0a9-9fd2-46ac-ea90-4656d321b265"
      },
      "execution_count": 48,
      "outputs": [
        {
          "output_type": "stream",
          "name": "stdout",
          "text": [
            "[0.         0.10129537 0.20259075 0.30388612 0.40518149 0.50647687\n",
            " 0.60777224 0.70906761 0.81036299 0.91165836]\n"
          ]
        }
      ]
    },
    {
      "cell_type": "code",
      "source": [
        "plt.plot(regressor_SGD_momentum.loss)\n",
        "plt.title('Plot of the Loss function with SGD and Momentum')\n",
        "plt.xlabel('Epochs')\n",
        "plt.ylabel('Loss')"
      ],
      "metadata": {
        "colab": {
          "base_uri": "https://localhost:8080/",
          "height": 312
        },
        "id": "W0awA09zxAPo",
        "outputId": "7d2b33ec-e969-4126-c5a2-0fc06f5d1215"
      },
      "execution_count": 50,
      "outputs": [
        {
          "output_type": "execute_result",
          "data": {
            "text/plain": [
              "Text(0, 0.5, 'Loss')"
            ]
          },
          "metadata": {},
          "execution_count": 50
        },
        {
          "output_type": "display_data",
          "data": {
            "text/plain": [
              "<Figure size 432x288 with 1 Axes>"
            ],
            "image/png": "[encoded data removed]"
          },
          "metadata": {
            "needs_background": "light"
          }
        }
      ]
    },
    {
      "cell_type": "code",
      "source": [
        "plt.scatter(x_train, y_train)\n",
        "plt.plot(x_train, y_pred_SGD_momentum)\n",
        "plt.show()"
      ],
      "metadata": {
        "colab": {
          "base_uri": "https://localhost:8080/",
          "height": 265
        },
        "id": "XIcb4vsZx-9W",
        "outputId": "7113cfae-19c7-4c5b-a581-9824d717fda9"
      },
      "execution_count": 51,
      "outputs": [
        {
          "output_type": "display_data",
          "data": {
            "text/plain": [
              "<Figure size 432x288 with 1 Axes>"
            ],
            "image/png": "[encoded data removed]"
          },
          "metadata": {
            "needs_background": "light"
          }
        }
      ]
    },
    {
      "cell_type": "code",
      "source": [],
      "metadata": {
        "id": "YwHOBDn2ZC7t"
      },
      "execution_count": null,
      "outputs": []
    },
    {
      "cell_type": "markdown",
      "source": [
        "#### Implementation of Mini Batch Gradient Descent"
      ],
      "metadata": {
        "id": "B4VKs9Ner5pa"
      }
    },
    {
      "cell_type": "code",
      "source": [
        "def loss_MBGD(y, y_pred):\n",
        "  '''\n",
        "  Inputs : y, y_pred\n",
        "\n",
        "  return: MSE\n",
        "  '''\n",
        "  MSE = np.mean((y - y_pred)**2)\n",
        "\n",
        "  return MSE"
      ],
      "metadata": {
        "id": "8Ft4PcVbrxAY"
      },
      "execution_count": 35,
      "outputs": []
    },
    {
      "cell_type": "code",
      "source": [
        "class MiniBatch_GD:\n",
        "\n",
        "    def __init__(self, learning_rate=0.01, epochs=100, batch_size=32):\n",
        "        self.learning_rate = learning_rate\n",
        "        self.epochs = epochs\n",
        "        self.batch_size = batch_size\n",
        "        self.theta = None\n",
        "        self.loss = []\n",
        "\n",
        "    def fit(self, X, y):\n",
        "        m, n = X.shape\n",
        "        self.theta = np.zeros(n)\n",
        "        for i in range(self.epochs):\n",
        "            # Shuffle the data\n",
        "            indexes = np.arange(m)\n",
        "            np.random.shuffle(indexes)\n",
        "            #indexes\n",
        "            X = X[indexes]\n",
        "            y = y[indexes]\n",
        "            self.cost_int = []\n",
        "            # Split the data into batches\n",
        "            for j in range(0, m, self.batch_size):\n",
        "                X_batch = X[j:j+self.batch_size]\n",
        "                y_batch = y[j:j+self.batch_size]\n",
        "\n",
        "                y_pred = linear(X_batch, self.theta)\n",
        "\n",
        "                self.cost = loss_MBGD(y_batch, y_pred)\n",
        "\n",
        "                # Calculate the gradient of the cost function\n",
        "                grads =  gradient(X_batch, self.theta, y_batch) \n",
        "                # Update the parameters\n",
        "                self.theta = update_parameters(self.theta, self.learning_rate, grads)\n",
        "            # Calculate the cost function\n",
        "\n",
        "                self.cost_int.append(self.cost) \n",
        "            self.loss.append(np.mean(self.cost_int))\n",
        "\n",
        "    def predict(self, X):\n",
        "\n",
        "        return np.dot(X, self.theta)\n"
      ],
      "metadata": {
        "id": "IdnpOEbHZC13"
      },
      "execution_count": 39,
      "outputs": []
    },
    {
      "cell_type": "code",
      "source": [
        "X_train = x_train\n",
        "y_train = y_train\n",
        "\n",
        "regressor_MBGD = MiniBatch_GD(learning_rate=0.01, epochs=100, batch_size=2)\n",
        "regressor_MBGD.fit(X_train, y_train)\n",
        "\n",
        "y_pred_MBGD = regressor_MBGD.predict(X_train)\n",
        "print(y_pred_MBGD)\n"
      ],
      "metadata": {
        "colab": {
          "base_uri": "https://localhost:8080/"
        },
        "id": "FzZ_f5_8hhZy",
        "outputId": "6e9095a6-91b7-4aa1-b5d7-40a2f87c6381"
      },
      "execution_count": 40,
      "outputs": [
        {
          "output_type": "stream",
          "name": "stdout",
          "text": [
            "[[0.        0.       ]\n",
            " [0.1066624 0.1066624]\n",
            " [0.2133248 0.2133248]\n",
            " [0.3199872 0.3199872]\n",
            " [0.4266496 0.4266496]\n",
            " [0.533312  0.533312 ]\n",
            " [0.6399744 0.6399744]\n",
            " [0.7466368 0.7466368]\n",
            " [0.8532992 0.8532992]\n",
            " [0.9599616 0.9599616]]\n"
          ]
        }
      ]
    },
    {
      "cell_type": "code",
      "source": [
        "regressor_MBGD.loss"
      ],
      "metadata": {
        "colab": {
          "base_uri": "https://localhost:8080/"
        },
        "id": "5xU64Orgoe4Q",
        "outputId": "6ad2f9ef-5986-4420-adab-2fc426e2fabe"
      },
      "execution_count": 41,
      "outputs": [
        {
          "output_type": "execute_result",
          "data": {
            "text/plain": [
              "[0.31338099140263337,\n",
              " 0.27374714112409976,\n",
              " 0.23664554040581826,\n",
              " 0.20667862132657316,\n",
              " 0.17950689193020014,\n",
              " 0.15625987422567716,\n",
              " 0.13687831489617056,\n",
              " 0.11883357944765845,\n",
              " 0.10339419428389526,\n",
              " 0.09112862200942015,\n",
              " 0.07948324471706239,\n",
              " 0.06917547875875167,\n",
              " 0.061017426932673605,\n",
              " 0.05327472307972101,\n",
              " 0.04685293617302511,\n",
              " 0.04146663451124023,\n",
              " 0.03657273661468892,\n",
              " 0.032287171858290165,\n",
              " 0.028556198716131853,\n",
              " 0.025425489585306982,\n",
              " 0.022724308367008953,\n",
              " 0.02024241326105073,\n",
              " 0.018300322260371087,\n",
              " 0.016492264386853916,\n",
              " 0.01492874239723344,\n",
              " 0.013578163188031863,\n",
              " 0.01244407465163232,\n",
              " 0.011404203589004352,\n",
              " 0.010508139019016056,\n",
              " 0.009758783196933338,\n",
              " 0.009065115220537972,\n",
              " 0.00848436357866288,\n",
              " 0.007979019058951844,\n",
              " 0.007564863458108281,\n",
              " 0.007184853152356401,\n",
              " 0.006859603884464592,\n",
              " 0.0065672863218471005,\n",
              " 0.006335454280629758,\n",
              " 0.006120623302230873,\n",
              " 0.005949579093705949,\n",
              " 0.005776283255312735,\n",
              " 0.0056429095615368316,\n",
              " 0.0055320501543886565,\n",
              " 0.005413870701446559,\n",
              " 0.005314516747811169,\n",
              " 0.0052500513280191044,\n",
              " 0.005191960268210087,\n",
              " 0.005119786473473051,\n",
              " 0.005061952100481533,\n",
              " 0.005034397680711998,\n",
              " 0.004991031922465983,\n",
              " 0.004949649652872248,\n",
              " 0.004919530824388963,\n",
              " 0.004891061589627427,\n",
              " 0.004872554752431158,\n",
              " 0.0048520091137724385,\n",
              " 0.004852861811427002,\n",
              " 0.0048196569046136005,\n",
              " 0.0048150988056959425,\n",
              " 0.004794136106722532,\n",
              " 0.004793611431217757,\n",
              " 0.004792862523026851,\n",
              " 0.004772193024272018,\n",
              " 0.004776481964042524,\n",
              " 0.004770252533432275,\n",
              " 0.004764751468132869,\n",
              " 0.004755774796985567,\n",
              " 0.004762399602483036,\n",
              " 0.004743846375338989,\n",
              " 0.004753008325494212,\n",
              " 0.004741607896370461,\n",
              " 0.004739700403529133,\n",
              " 0.004750316617951266,\n",
              " 0.004744678474496458,\n",
              " 0.004735735683709783,\n",
              " 0.00474369742055737,\n",
              " 0.0047480436142650845,\n",
              " 0.004733946380967308,\n",
              " 0.004743874756483428,\n",
              " 0.004746778006976587,\n",
              " 0.004746625832864074,\n",
              " 0.004734730205111275,\n",
              " 0.0047313022843566074,\n",
              " 0.004744565853707146,\n",
              " 0.004726737546753715,\n",
              " 0.004733410382394684,\n",
              " 0.004729361666166343,\n",
              " 0.004740988779799151,\n",
              " 0.004735335979577052,\n",
              " 0.004742489657408515,\n",
              " 0.004731199620553462,\n",
              " 0.004734729308029063,\n",
              " 0.004733576773877979,\n",
              " 0.004743438840197808,\n",
              " 0.004737870937539398,\n",
              " 0.004740739214992089,\n",
              " 0.004729978157277205,\n",
              " 0.004731024822372959,\n",
              " 0.004742972246742432,\n",
              " 0.004736812649495592]"
            ]
          },
          "metadata": {},
          "execution_count": 41
        }
      ]
    },
    {
      "cell_type": "code",
      "source": [
        "plt.plot(regressor_MBGD.loss)\n",
        "plt.title('Plot of the Loss function with MBGD')\n",
        "plt.xlabel('Epochs')\n",
        "plt.ylabel('Loss')"
      ],
      "metadata": {
        "colab": {
          "base_uri": "https://localhost:8080/",
          "height": 312
        },
        "id": "EIzoGcjmhhTG",
        "outputId": "ca6f9d53-1020-4a74-ff41-cfdd77428a1d"
      },
      "execution_count": 42,
      "outputs": [
        {
          "output_type": "execute_result",
          "data": {
            "text/plain": [
              "Text(0, 0.5, 'Loss')"
            ]
          },
          "metadata": {},
          "execution_count": 42
        },
        {
          "output_type": "display_data",
          "data": {
            "text/plain": [
              "<Figure size 432x288 with 1 Axes>"
            ],
            "image/png": "[encoded data removed]"
          },
          "metadata": {
            "needs_background": "light"
          }
        }
      ]
    },
    {
      "cell_type": "markdown",
      "source": [
        "Plot using Mini Batch Gradient Descent"
      ],
      "metadata": {
        "id": "UBYtRinXsvpr"
      }
    },
    {
      "cell_type": "code",
      "source": [
        "plt.scatter(x_train, y_train)\n",
        "plt.plot(x_train, y_pred_MBGD)\n",
        "plt.show()"
      ],
      "metadata": {
        "colab": {
          "base_uri": "https://localhost:8080/",
          "height": 267
        },
        "id": "c3Eqqo_khhOt",
        "outputId": "8d7b9020-4e17-4a3f-af5d-0b0a1a4aa57f"
      },
      "execution_count": 43,
      "outputs": [
        {
          "output_type": "display_data",
          "data": {
            "text/plain": [
              "<Figure size 432x288 with 1 Axes>"
            ],
            "image/png": "[encoded data removed]"
          },
          "metadata": {
            "needs_background": "light"
          }
        }
      ]
    },
    {
      "cell_type": "markdown",
      "source": [
        "#### Comparison of the three results"
      ],
      "metadata": {
        "id": "iNm3No2ijVqd"
      }
    },
    {
      "cell_type": "code",
      "source": [
        "plt.scatter(x_train, y_train)\n",
        "plt.plot(x_train, y_pred_GD[:,0], label = 'GD', color = 'b')\n",
        "plt.plot(x_train, y_pred_SGD, label = 'SGD', color = 'r')\n",
        "plt.plot(x_train, y_pred_MBGD[:,0], label = 'MBGD', color = 'y')\n",
        "plt.xlabel('x')\n",
        "plt.ylabel('y')\n",
        "plt.legend()\n",
        "plt.show()"
      ],
      "metadata": {
        "colab": {
          "base_uri": "https://localhost:8080/",
          "height": 281
        },
        "id": "UNCkUhWyZCyn",
        "outputId": "3b270c27-bd93-49f1-816c-9d7570bf56e2"
      },
      "execution_count": 44,
      "outputs": [
        {
          "output_type": "display_data",
          "data": {
            "text/plain": [
              "<Figure size 432x288 with 1 Axes>"
            ],
            "image/png": "[encoded data removed]"
          },
          "metadata": {
            "needs_background": "light"
          }
        }
      ]
    },
    {
      "cell_type": "code",
      "source": [],
      "metadata": {
        "id": "F8AUXII0ZCsn"
      },
      "execution_count": null,
      "outputs": []
    },
    {
      "cell_type": "code",
      "source": [],
      "metadata": {
        "id": "1brVqWJtZCpq"
      },
      "execution_count": null,
      "outputs": []
    }
  ]
}